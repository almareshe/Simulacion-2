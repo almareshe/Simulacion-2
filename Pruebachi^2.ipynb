{
  "nbformat": 4,
  "nbformat_minor": 0,
  "metadata": {
    "colab": {
      "provenance": [],
      "include_colab_link": true
    },
    "kernelspec": {
      "name": "python3",
      "display_name": "Python 3"
    },
    "language_info": {
      "name": "python"
    }
  },
  "cells": [
    {
      "cell_type": "markdown",
      "metadata": {
        "id": "view-in-github",
        "colab_type": "text"
      },
      "source": [
        "<a href=\"https://colab.research.google.com/github/almareshe/Simulacion-2/blob/main/Pruebachi%5E2.ipynb\" target=\"_parent\"><img src=\"https://colab.research.google.com/assets/colab-badge.svg\" alt=\"Open In Colab\"/></a>"
      ]
    },
    {
      "cell_type": "markdown",
      "source": [
        "# Prueba Chi Cuadrada"
      ],
      "metadata": {
        "id": "GTwVHuMYEtXt"
      }
    },
    {
      "cell_type": "markdown",
      "source": [
        "Realice una prueba de uniformidad $x^2$ a los números de la tabla siguiente, con un nivel de aceptación del 95%"
      ],
      "metadata": {
        "id": "EP4sFL6z2OaP"
      }
    },
    {
      "cell_type": "markdown",
      "source": [
        "<table>\n",
        "  <tr>\n",
        "    <td>38</td><td>33</td><td>25</td><td>05</td><td>69</td><td>35</td><td>98</td><td>52</td><td>12</td><td>79</td>\n",
        "  </tr>\n",
        "  <tr>\n",
        "    <td>50</td><td>46</td><td>95</td><td>42</td><td>49</td><td>11</td><td>78</td><td>34</td><td>02</td><td>43</td>\n",
        "  </tr>\n",
        "  <tr>\n",
        "    <td>07</td><td>50</td><td>05</td><td>91</td><td>77</td><td>18</td><td>21</td><td>04</td><td>17</td><td>62</td>\n",
        "  </tr>\n",
        "  <tr>\n",
        "    <td>91</td><td>36</td><td>48</td><td>88</td><td>52</td><td>76</td><td>99</td><td>73</td><td>82</td><td>90</td>\n",
        "  </tr>\n",
        "</table>\n"
      ],
      "metadata": {
        "id": "or-zNkx82Moc"
      }
    },
    {
      "cell_type": "code",
      "source": [
        "import numpy as np\n",
        "from scipy.stats import chi2\n",
        "\n",
        "def calculo_estimator(datos):\n",
        "    t = len(datos)\n",
        "    clase = int(round(np.sqrt(t)))\n",
        "    E = t / clase\n",
        "    division_uniforme = 1 / clase\n",
        "    xic = 0.0\n",
        "    for i in range(clase):\n",
        "        contador = sum(1 for j in range(t) if (division_uniforme*i) <= datos[j] < (division_uniforme*(i+1)))\n",
        "        xic += (contador - E) ** 2\n",
        "    xic /= xic/E\n",
        "    return xic, clase\n",
        "\n",
        "def prueba_chi(confianza, xic, clase):\n",
        "    alpha = 1 - (confianza / 100)\n",
        "    gl = clase - 1\n",
        "    valorcrit = chi2.ppf(1 - alpha, gl)\n",
        "    return valorcrit, xic <= valorcrit, gl, 1 - alpha\n",
        "\n",
        "def main():\n",
        "    confianza = int(input(\"Introduce el porcentaje de confianza de la prueba: \"))\n",
        "    numerosus = input(\"Introduce los números separados por espacios: \").split()\n",
        "    numerosn = [float(num) for num in numerosus]\n",
        "    print(\"Números ingresados:\", numerosn)\n",
        "    xic, clase = calculo_estimator(numerosn)\n",
        "    print(\"El valor del estimador es:\", xic)\n",
        "    valorcrit, result, gl, nivelconf = prueba_chi(confianza, xic, clase)\n",
        "    print(\"El valor crítico es:\", valorcrit)\n",
        "    if result:\n",
        "        print(\"\\nNo se rechaza H_0,  al no existir diferencia significativa entre la distribución de la muestra y la distribución teórica de U(0,1). Con\", gl, \"grados de libertad y\", nivelconf, \"nivel de confianza.\")\n",
        "    else:\n",
        "        print(\"\\nSe rechaza H_0, al existir una diferencia significativa entre la distribución de la muestra y la distribución teórica de U(0,1). Con\", gl, \"grados de libertad y\", nivelconf, \"nivel de confianza.\")\n",
        "\n",
        "if __name__ == \"__main__\":\n",
        "    main()"
      ],
      "metadata": {
        "colab": {
          "base_uri": "https://localhost:8080/"
        },
        "id": "9cPRCHda0BSq",
        "outputId": "94c0d50c-a5e3-418b-f770-885e79915b14"
      },
      "execution_count": null,
      "outputs": [
        {
          "output_type": "stream",
          "name": "stdout",
          "text": [
            "Introduce el porcentaje de confianza de la prueba: 95\n",
            "Introduce los números separados por espacios: 38\t33\t25\t05\t69\t35\t98\t52\t12\t79 50\t46\t95\t42\t49\t11\t78\t34\t02\t43 07\t50\t05\t91\t77\t18\t21\t04\t17\t62 91\t36\t48\t88\t52\t76\t99\t73\t82\t90\n",
            "Números ingresados: [38.0, 33.0, 25.0, 5.0, 69.0, 35.0, 98.0, 52.0, 12.0, 79.0, 50.0, 46.0, 95.0, 42.0, 49.0, 11.0, 78.0, 34.0, 2.0, 43.0, 7.0, 50.0, 5.0, 91.0, 77.0, 18.0, 21.0, 4.0, 17.0, 62.0, 91.0, 36.0, 48.0, 88.0, 52.0, 76.0, 99.0, 73.0, 82.0, 90.0]\n",
            "El valor del estimador es: 6.666666666666667\n",
            "El valor crítico es: 11.070497693516351\n",
            "\n",
            "No se rechaza H_0, ya que no existe diferencia entre la distribución de la muestra y la distribución teórica de U(0,1). Con 5 grados de libertad y 0.95 nivel de confianza.\n"
          ]
        }
      ]
    }
  ]
}