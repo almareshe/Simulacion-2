{
  "nbformat": 4,
  "nbformat_minor": 0,
  "metadata": {
    "colab": {
      "provenance": [],
      "authorship_tag": "ABX9TyMzYA8arh6ihKOck9i4bsuU",
      "include_colab_link": true
    },
    "kernelspec": {
      "name": "python3",
      "display_name": "Python 3"
    },
    "language_info": {
      "name": "python"
    }
  },
  "cells": [
    {
      "cell_type": "markdown",
      "metadata": {
        "id": "view-in-github",
        "colab_type": "text"
      },
      "source": [
        "<a href=\"https://colab.research.google.com/github/almareshe/Simulacion-2/blob/main/Tarea1sim2.ipynb\" target=\"_parent\"><img src=\"https://colab.research.google.com/assets/colab-badge.svg\" alt=\"Open In Colab\"/></a>"
      ]
    },
    {
      "cell_type": "code",
      "execution_count": null,
      "metadata": {
        "colab": {
          "base_uri": "https://localhost:8080/"
        },
        "id": "mvDp7g2Sb6P0",
        "outputId": "bd364d8d-a293-44e9-fd78-47f72f75edf4"
      },
      "outputs": [
        {
          "output_type": "stream",
          "name": "stdout",
          "text": [
            "Introduce el 1º número: 38\n",
            "Introduce el 2º número: 50\n",
            "Introduce el 3º número: 07\n",
            "Introduce el 4º número: 91\n",
            "Introduce el 5º número: 33\n",
            "Introduce el 6º número: 46\n",
            "Introduce el 7º número: 50\n",
            "Introduce el 8º número: 36\n",
            "Introduce el 9º número: 25\n",
            "Introduce el 10º número: 95\n",
            "Introduce el 11º número: 05\n",
            "Introduce el 12º número: 48\n",
            "Introduce el 13º número: 05\n",
            "Introduce el 14º número: 42\n",
            "Introduce el 15º número: 91\n",
            "Introduce el 16º número: 88\n",
            "Introduce el 17º número: 69\n",
            "Introduce el 18º número: 49\n",
            "Introduce el 19º número: 77\n",
            "Introduce el 20º número: 52\n",
            "Introduce el 21º número: 35\n",
            "Introduce el 22º número: 11\n",
            "Introduce el 23º número: 18\n",
            "Introduce el 24º número: 76\n",
            "Introduce el 25º número: 98\n",
            "Introduce el 26º número: 78\n",
            "Introduce el 27º número: 21\n",
            "Introduce el 28º número: 99\n",
            "Introduce el 29º número: 52\n",
            "Introduce el 30º número: 34\n",
            "Introduce el 31º número: 04\n",
            "Introduce el 32º número: 73\n",
            "Introduce el 33º número: 12\n",
            "Introduce el 34º número: 02\n",
            "Introduce el 35º número: 17\n",
            "Introduce el 36º número: 82\n",
            "Introduce el 37º número: 79\n",
            "Introduce el 38º número: 43\n",
            "Introduce el 39º número: 62\n",
            "Introduce el 40º número: 90\n",
            "¿Cuántos intervalos deseas definir? 5\n",
            "Intervalo 1:\n",
            "\tInicio del intervalo: 0.0\n",
            "\tFin del intervalo: 0.19\n",
            "Intervalo 2:\n",
            "\tInicio del intervalo: 0.2\n",
            "\tFin del intervalo: 0.39\n",
            "Intervalo 3:\n",
            "\tInicio del intervalo: 0.4\n",
            "\tFin del intervalo: 0.59\n",
            "Intervalo 4:\n",
            "\tInicio del intervalo: 0.6\n",
            "\tFin del intervalo: 0.79\n",
            "Intervalo 5:\n",
            "\tInicio del intervalo: 0.8\n",
            "\tFin del intervalo: 0.99\n",
            "Conteo de números dentro de cada intervalo:\n",
            "Intervalo [0.0, 0.19]: 0 números\n",
            "Intervalo [0.2, 0.39]: 1 números\n",
            "Intervalo [0.4, 0.59]: 3 números\n",
            "Intervalo [0.6, 0.79]: 1 números\n",
            "Intervalo [0.8, 0.99]: 0 números\n"
          ]
        }
      ],
      "source": [
        "def solicitar_numero(orden):\n",
        "    while True:\n",
        "        try:\n",
        "            numero = float(input(f\"Introduce el {orden} número: \"))\n",
        "            return numero\n",
        "        except ValueError:\n",
        "            print(\"Por favor, introduce un número válido.\")\n",
        "\n",
        "def solicitar_intervalos():\n",
        "    cantidad = int(input(\"¿Cuántos intervalos deseas definir? \"))\n",
        "    intervalos = []\n",
        "    for i in range(cantidad):\n",
        "        print(f\"Intervalo {i + 1}:\")\n",
        "        inicio = float(input(\"\\tInicio del intervalo: \"))\n",
        "        fin = float(input(\"\\tFin del intervalo: \"))\n",
        "        if inicio > fin:\n",
        "            inicio, fin = fin, inicio  # Aseguramos que inicio sea menor que fin\n",
        "        intervalos.append((inicio, fin))\n",
        "    return intervalos\n",
        "\n",
        "def contar_en_intervalos(numeros, intervalos):\n",
        "    conteos = [0] * len(intervalos)\n",
        "    for num in numeros:\n",
        "        for i, (inicio, fin) in enumerate(intervalos):\n",
        "            if inicio <= num <= fin:\n",
        "                conteos[i] += 1\n",
        "                break  # Asumimos que un número solo puede estar en un intervalo\n",
        "    return conteos\n",
        "\n",
        "def main():\n",
        "    numeros = []\n",
        "\n",
        "    # Solicitar 40 números al usuario y dividirlos entre 10\n",
        "    for i in range(1, 41):\n",
        "        numero = solicitar_numero(f\"{i}º\")\n",
        "        numeros.append(numero / 10)\n",
        "\n",
        "    # Solicitar al usuario que defina los intervalos\n",
        "    intervalos = solicitar_intervalos()\n",
        "\n",
        "    # Contar cuántos números caen dentro de cada intervalo\n",
        "    conteos = contar_en_intervalos(numeros, intervalos)\n",
        "\n",
        "    # Mostrar resultados\n",
        "    print(\"Conteo de números dentro de cada intervalo:\")\n",
        "    for i, (inicio, fin) in enumerate(intervalos):\n",
        "        print(f\"Intervalo [{inicio}, {fin}]: {conteos[i]} números\")\n",
        "\n",
        "# Ejecutar el programa\n",
        "if __name__ == \"__main__\":\n",
        "    main()"
      ]
    }
  ]
}