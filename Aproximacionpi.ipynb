{
  "nbformat": 4,
  "nbformat_minor": 0,
  "metadata": {
    "colab": {
      "provenance": [],
      "authorship_tag": "ABX9TyPWK8XcaBxQJlStxnxu9mb6",
      "include_colab_link": true
    },
    "kernelspec": {
      "name": "python3",
      "display_name": "Python 3"
    },
    "language_info": {
      "name": "python"
    }
  },
  "cells": [
    {
      "cell_type": "markdown",
      "metadata": {
        "id": "view-in-github",
        "colab_type": "text"
      },
      "source": [
        "<a href=\"https://colab.research.google.com/github/almareshe/Simulacion-2/blob/main/Aproximacionpi.ipynb\" target=\"_parent\"><img src=\"https://colab.research.google.com/assets/colab-badge.svg\" alt=\"Open In Colab\"/></a>"
      ]
    },
    {
      "cell_type": "markdown",
      "source": [
        "# Aproximacion del numero $\\pi$\n"
      ],
      "metadata": {
        "id": "vE4hU_3yYhww"
      }
    },
    {
      "cell_type": "markdown",
      "source": [
        "Planteamos la integral\n",
        "$$I = \\int_0^1 \\sqrt{1-x^2} dx$$\n",
        "la cual corresponde al area bajo la curva de un  circulo de radio 1.\n",
        "\n",
        "Al resolver la integral tenemos\n",
        "$$I = \\int_0^1 \\sqrt{1-x^2} dx =  \\int_0^1 cos(u) \\sqrt{1-sin^2(u)} du =   \\int_0^1 cos^2(u) du = \\int_0^1 \\frac{1+cos(2x)}{2} du $$\n",
        "$$ =\\left[ \\frac{x}{2} + \\frac{1}{2} \\left(\\frac{1}{2}sin(2u)\\right) \\right]_0^1 = \\frac{\\pi}{4} $$"
      ],
      "metadata": {
        "id": "Si8F5tPZdlsS"
      }
    },
    {
      "cell_type": "markdown",
      "source": [
        "Ahora contruimos el modelo para poder simularlo.\n",
        "\n",
        "**Paso 1**\n",
        "Definimos $$u_1, u_2 \\text{~} U(0,1)$$\n",
        "\n",
        "**Paso 2**\n",
        "Formulamos la distribucion de probabilidad para cada variable\n",
        "$$f(u_1) =\\left\\{ \\begin{array}{lcc} 1 & si & 0 \\leq u_1 \\leq  1 \\\\ \\\\ 0 & \\text{cualquier otro caso}  \\end{array} \\right. $$\n",
        "$$f(u_2) =\\left\\{ \\begin{array}{lcc} 1 & si & 0 \\leq u_2 \\leq  1 \\\\ \\\\ 0 & \\text{cualquier otro caso}  \\end{array} \\right. $$"
      ],
      "metadata": {
        "id": "9fshslzgjCMy"
      }
    },
    {
      "cell_type": "markdown",
      "source": [
        "**Paso 3**\n",
        "Enumeramos la distribucion acumulada de probabilidad de cada variable.\n",
        "$$f(u_1)= \\left\\{ \\begin{array}{lcc} 0 & si & u_1 < 0 \\\\ \\\\ u_1 & si & 0 \\leq u_1 \\leq 1 \\\\ \\\\ 1 & si & u_1 > 1 \\end{array} \\right.$$\n",
        "$$f(u_2)= \\left\\{ \\begin{array}{lcc} 0 & si & u_2 < 0 \\\\ \\\\ u_2 & si & 0 \\leq u_2 \\leq 1 \\\\ \\\\ 1 & si & u_1 > 1 \\end{array} \\right.$$\n",
        "\n",
        "**Paso 4**\n",
        "Establezca el intervalo de números aleatorios correspondiente a cada valor de cada una de las variables.\n",
        "\n",
        "**Paso 5**\n",
        "Genere números aleatorios.\n",
        "\n",
        "**Paso 6**\n",
        "Simule un lanzamiento de dardo\n",
        "\n",
        "**Paso 7**\n",
        "Obtenga la gráfica de estabilización que indica que el tamaño de muestra utilizado es suficiente para garantizar la convergencia del resultado."
      ],
      "metadata": {
        "id": "uJcz53v6lXbr"
      }
    },
    {
      "cell_type": "code",
      "source": [
        "import numpy as np\n",
        "import random\n",
        "import matplotlib.pyplot as plt\n",
        "\n",
        "def funcion(x):\n",
        "    return np.sqrt(1 - x**2)\n",
        "\n",
        "def monte_carlo_pi(n):\n",
        "    aciertos = 0\n",
        "    area_aproximada = []\n",
        "\n",
        "    for i in range(1, n + 1):\n",
        "        u1, u2 = random.random(), random.random()\n",
        "        x = u1  # como u1 ya está en el intervalo (0, 1), no es necesario ajustarlo\n",
        "        y = funcion(x)\n",
        "\n",
        "        if y > u2:\n",
        "            aciertos += 1\n",
        "        area_aproximada.append(4 * aciertos / i)\n",
        "\n",
        "    return area_aproximada\n",
        "\n",
        "n_iteraciones = 5000\n",
        "\n",
        "aproximaciones_pi = monte_carlo_pi(n_iteraciones)\n",
        "\n",
        "# Cálculo de la media de las aproximaciones\n",
        "media_aproximaciones = np.mean(aproximaciones_pi)\n",
        "print(f\"Media de las aproximaciones de π: {media_aproximaciones}\")\n",
        "\n",
        "plt.plot(aproximaciones_pi)\n",
        "plt.xlabel('Iteraciones')\n",
        "plt.ylabel('Valor de $\\pi$')\n",
        "plt.title('Aproximación del valor de $\\pi$ usando Monte Carlo')\n",
        "plt.show()"
      ],
      "metadata": {
        "colab": {
          "base_uri": "https://localhost:8080/",
          "height": 492
        },
        "id": "0f4lSp1mkX-u",
        "outputId": "e31c463f-5742-40f4-ae83-317ebb9d2651"
      },
      "execution_count": 5,
      "outputs": [
        {
          "output_type": "stream",
          "name": "stdout",
          "text": [
            "Media de las aproximaciones de π: 3.142858391106793\n"
          ]
        },
        {
          "output_type": "display_data",
          "data": {
            "text/plain": [
              "<Figure size 640x480 with 1 Axes>"
            ],
            "image/png": "[encoded data removed]"
          },
          "metadata": {}
        }
      ]
    },
    {
      "cell_type": "markdown",
      "source": [
        "**Paso 8**\n",
        "Replique el modelo"
      ],
      "metadata": {
        "id": "_mHBUnydqOCi"
      }
    },
    {
      "cell_type": "code",
      "source": [
        "def simular_pi(repeticiones, exp):\n",
        "    areas = []\n",
        "    for _ in range(repeticiones):\n",
        "        mediaexp = np.mean(experimentos(exp))\n",
        "        areas.append(mediaexp)\n",
        "    return areas\n",
        "\n",
        "nreps = 100\n",
        "nexp = 2000\n",
        "\n",
        "resim = simular_pi(nreps, nexp)\n",
        "mediasim = np.mean(resim)\n",
        "\n",
        "plt.hist(resim)\n",
        "plt.xlabel('Valor de $\\pi$')\n",
        "plt.ylabel('Frecuencia')\n",
        "plt.title('Histograma del valor de $\\pi$')\n",
        "plt.show()\n",
        "simu=simular_pi(100, 2000)"
      ],
      "metadata": {
        "colab": {
          "base_uri": "https://localhost:8080/",
          "height": 475
        },
        "id": "sRf5EZ3lrw9M",
        "outputId": "e0b8efd0-41c6-4bee-c7db-f0ded0fa06c8"
      },
      "execution_count": 25,
      "outputs": [
        {
          "output_type": "display_data",
          "data": {
            "text/plain": [
              "<Figure size 640x480 with 1 Axes>"
            ],
            "image/png": "[encoded data removed]"
          },
          "metadata": {}
        }
      ]
    },
    {
      "cell_type": "markdown",
      "source": [
        "**Paso 9**\n",
        "Calcule la probabilidad de que aparezcan dos caras lanzando tres veces una moneda al aire y su desviación estándar."
      ],
      "metadata": {
        "id": "_n6E0qUiqt2v"
      }
    },
    {
      "cell_type": "code",
      "source": [
        "med = np.mean(simu)\n",
        "var = np.var(simu)\n",
        "desv = np.std(simu)\n",
        "print(med,var,desv)"
      ],
      "metadata": {
        "colab": {
          "base_uri": "https://localhost:8080/"
        },
        "id": "Ggx62bgtq3UL",
        "outputId": "5a1f951e-fe78-431a-933b-6b4a05661ebf"
      },
      "execution_count": 26,
      "outputs": [
        {
          "output_type": "stream",
          "name": "stdout",
          "text": [
            "3.138732193151358 0.01465783046967043 0.12106952741986908\n"
          ]
        }
      ]
    },
    {
      "cell_type": "markdown",
      "source": [
        "**Paso 10**\n",
        "Halle el intervalo de confianza con un nivel del 95%"
      ],
      "metadata": {
        "id": "-3fNOx35q6nf"
      }
    },
    {
      "cell_type": "code",
      "source": [
        "import scipy.stats as stats\n",
        "\n",
        "# Definir los parámetros\n",
        "confianza = 0.95\n",
        "media = med # media muestral\n",
        "desviacion = desv   # desviación estándar muestral\n",
        "N = 100      # tamaño de la muestra\n",
        "\n",
        "# Calcular el valor crítico Z\n",
        "z_alpha_2 = stats.norm.ppf(1 - (1 - confianza) / 2)\n",
        "\n",
        "# Calcular los límites del intervalo de confianza\n",
        "l_inferior = media - z_alpha_2 * (desviacion / math.sqrt(N))\n",
        "l_superior = media + z_alpha_2 * (desviacion / math.sqrt(N))\n",
        "\n",
        "print(f\"Intervalo de confianza al {confianza*100}% para la media poblacional:\")\n",
        "print(f\"    {l_inferior} < μ < {l_superior}\")"
      ],
      "metadata": {
        "colab": {
          "base_uri": "https://localhost:8080/"
        },
        "id": "cgGtgtJzt2Tx",
        "outputId": "82e5614a-1a21-4d58-c759-a66a6714c7e3"
      },
      "execution_count": 28,
      "outputs": [
        {
          "output_type": "stream",
          "name": "stdout",
          "text": [
            "Intervalo de confianza al 95.0% para la media poblacional:\n",
            "    3.1150030018145354 < μ < 3.162461384488181\n"
          ]
        }
      ]
    }
  ]
}